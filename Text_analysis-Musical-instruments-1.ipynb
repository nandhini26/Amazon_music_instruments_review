{
 "cells": [
  {
   "cell_type": "markdown",
   "metadata": {},
   "source": [
    "### Text analysis of musical instruments review"
   ]
  },
  {
   "cell_type": "code",
   "execution_count": 23,
   "metadata": {},
   "outputs": [],
   "source": [
    "# importing the libraries\n",
    "\n",
    "import numpy as np\n",
    "import pandas as pd\n",
    "import matplotlib.pyplot as plt\n",
    "%matplotlib inline\n",
    "import seaborn as sns\n",
    "import statsmodels.api as sm\n",
    "from scipy import stats\n",
    "import statsmodels.formula.api as smf"
   ]
  },
  {
   "cell_type": "code",
   "execution_count": 24,
   "metadata": {},
   "outputs": [],
   "source": [
    "# reading the csv file\n",
    "\n",
    "df_review= pd.read_csv('./TextData/amazon-music-reviews 2/Musical_instruments_reviews.csv')"
   ]
  },
  {
   "cell_type": "code",
   "execution_count": 25,
   "metadata": {},
   "outputs": [
    {
     "data": {
      "text/html": [
       "<div>\n",
       "<style scoped>\n",
       "    .dataframe tbody tr th:only-of-type {\n",
       "        vertical-align: middle;\n",
       "    }\n",
       "\n",
       "    .dataframe tbody tr th {\n",
       "        vertical-align: top;\n",
       "    }\n",
       "\n",
       "    .dataframe thead th {\n",
       "        text-align: right;\n",
       "    }\n",
       "</style>\n",
       "<table border=\"1\" class=\"dataframe\">\n",
       "  <thead>\n",
       "    <tr style=\"text-align: right;\">\n",
       "      <th></th>\n",
       "      <th>reviewerID</th>\n",
       "      <th>asin</th>\n",
       "      <th>reviewerName</th>\n",
       "      <th>helpful</th>\n",
       "      <th>reviewText</th>\n",
       "      <th>overall</th>\n",
       "      <th>summary</th>\n",
       "      <th>unixReviewTime</th>\n",
       "      <th>reviewTime</th>\n",
       "    </tr>\n",
       "  </thead>\n",
       "  <tbody>\n",
       "    <tr>\n",
       "      <td>0</td>\n",
       "      <td>A2IBPI20UZIR0U</td>\n",
       "      <td>1384719342</td>\n",
       "      <td>cassandra tu \"Yeah, well, that's just like, u...</td>\n",
       "      <td>[0, 0]</td>\n",
       "      <td>Not much to write about here, but it does exac...</td>\n",
       "      <td>5.0</td>\n",
       "      <td>good</td>\n",
       "      <td>1393545600</td>\n",
       "      <td>02 28, 2014</td>\n",
       "    </tr>\n",
       "    <tr>\n",
       "      <td>1</td>\n",
       "      <td>A14VAT5EAX3D9S</td>\n",
       "      <td>1384719342</td>\n",
       "      <td>Jake</td>\n",
       "      <td>[13, 14]</td>\n",
       "      <td>The product does exactly as it should and is q...</td>\n",
       "      <td>5.0</td>\n",
       "      <td>Jake</td>\n",
       "      <td>1363392000</td>\n",
       "      <td>03 16, 2013</td>\n",
       "    </tr>\n",
       "    <tr>\n",
       "      <td>2</td>\n",
       "      <td>A195EZSQDW3E21</td>\n",
       "      <td>1384719342</td>\n",
       "      <td>Rick Bennette \"Rick Bennette\"</td>\n",
       "      <td>[1, 1]</td>\n",
       "      <td>The primary job of this device is to block the...</td>\n",
       "      <td>5.0</td>\n",
       "      <td>It Does The Job Well</td>\n",
       "      <td>1377648000</td>\n",
       "      <td>08 28, 2013</td>\n",
       "    </tr>\n",
       "    <tr>\n",
       "      <td>3</td>\n",
       "      <td>A2C00NNG1ZQQG2</td>\n",
       "      <td>1384719342</td>\n",
       "      <td>RustyBill \"Sunday Rocker\"</td>\n",
       "      <td>[0, 0]</td>\n",
       "      <td>Nice windscreen protects my MXL mic and preven...</td>\n",
       "      <td>5.0</td>\n",
       "      <td>GOOD WINDSCREEN FOR THE MONEY</td>\n",
       "      <td>1392336000</td>\n",
       "      <td>02 14, 2014</td>\n",
       "    </tr>\n",
       "    <tr>\n",
       "      <td>4</td>\n",
       "      <td>A94QU4C90B1AX</td>\n",
       "      <td>1384719342</td>\n",
       "      <td>SEAN MASLANKA</td>\n",
       "      <td>[0, 0]</td>\n",
       "      <td>This pop filter is great. It looks and perform...</td>\n",
       "      <td>5.0</td>\n",
       "      <td>No more pops when I record my vocals.</td>\n",
       "      <td>1392940800</td>\n",
       "      <td>02 21, 2014</td>\n",
       "    </tr>\n",
       "  </tbody>\n",
       "</table>\n",
       "</div>"
      ],
      "text/plain": [
       "       reviewerID        asin  \\\n",
       "0  A2IBPI20UZIR0U  1384719342   \n",
       "1  A14VAT5EAX3D9S  1384719342   \n",
       "2  A195EZSQDW3E21  1384719342   \n",
       "3  A2C00NNG1ZQQG2  1384719342   \n",
       "4   A94QU4C90B1AX  1384719342   \n",
       "\n",
       "                                       reviewerName   helpful  \\\n",
       "0  cassandra tu \"Yeah, well, that's just like, u...    [0, 0]   \n",
       "1                                              Jake  [13, 14]   \n",
       "2                     Rick Bennette \"Rick Bennette\"    [1, 1]   \n",
       "3                         RustyBill \"Sunday Rocker\"    [0, 0]   \n",
       "4                                     SEAN MASLANKA    [0, 0]   \n",
       "\n",
       "                                          reviewText  overall  \\\n",
       "0  Not much to write about here, but it does exac...      5.0   \n",
       "1  The product does exactly as it should and is q...      5.0   \n",
       "2  The primary job of this device is to block the...      5.0   \n",
       "3  Nice windscreen protects my MXL mic and preven...      5.0   \n",
       "4  This pop filter is great. It looks and perform...      5.0   \n",
       "\n",
       "                                 summary  unixReviewTime   reviewTime  \n",
       "0                                   good      1393545600  02 28, 2014  \n",
       "1                                   Jake      1363392000  03 16, 2013  \n",
       "2                   It Does The Job Well      1377648000  08 28, 2013  \n",
       "3          GOOD WINDSCREEN FOR THE MONEY      1392336000  02 14, 2014  \n",
       "4  No more pops when I record my vocals.      1392940800  02 21, 2014  "
      ]
     },
     "execution_count": 25,
     "metadata": {},
     "output_type": "execute_result"
    }
   ],
   "source": [
    "df_review.head()"
   ]
  },
  {
   "cell_type": "code",
   "execution_count": 26,
   "metadata": {},
   "outputs": [
    {
     "data": {
      "text/plain": [
       "Index(['reviewerID', 'asin', 'reviewerName', 'helpful', 'reviewText',\n",
       "       'overall', 'summary', 'unixReviewTime', 'reviewTime'],\n",
       "      dtype='object')"
      ]
     },
     "execution_count": 26,
     "metadata": {},
     "output_type": "execute_result"
    }
   ],
   "source": [
    "df_review.columns"
   ]
  },
  {
   "cell_type": "code",
   "execution_count": 27,
   "metadata": {},
   "outputs": [],
   "source": [
    "# slecting the paricular columns\n",
    "\n",
    "df_review=df_review[[ 'reviewText','overall']]"
   ]
  },
  {
   "cell_type": "code",
   "execution_count": 28,
   "metadata": {},
   "outputs": [],
   "source": [
    "df_review['reviewText']=df_review['reviewText'].str.replace('\\d+',' ')"
   ]
  },
  {
   "cell_type": "code",
   "execution_count": 29,
   "metadata": {},
   "outputs": [],
   "source": [
    "# checking the distribution of review score"
   ]
  },
  {
   "cell_type": "code",
   "execution_count": 30,
   "metadata": {},
   "outputs": [
    {
     "data": {
      "image/png": "[encoded data removed]",
      "text/plain": [
       "<Figure size 432x288 with 1 Axes>"
      ]
     },
     "metadata": {
      "needs_background": "light"
     },
     "output_type": "display_data"
    }
   ],
   "source": [
    "values, counts = np.unique(df_review['overall'], return_counts=True)\n",
    "plt.figure()\n",
    "plt.bar(values, counts)\n",
    "plt.xlabel('Review rating')\n",
    "plt.ylabel('Count of reviews')\n",
    "plt.show()"
   ]
  },
  {
   "cell_type": "code",
   "execution_count": 31,
   "metadata": {},
   "outputs": [],
   "source": [
    "data=df_review"
   ]
  },
  {
   "cell_type": "code",
   "execution_count": 32,
   "metadata": {},
   "outputs": [
    {
     "data": {
      "text/plain": [
       "reviewText     object\n",
       "overall       float64\n",
       "dtype: object"
      ]
     },
     "execution_count": 32,
     "metadata": {},
     "output_type": "execute_result"
    }
   ],
   "source": [
    "df_review.dtypes"
   ]
  },
  {
   "cell_type": "code",
   "execution_count": 33,
   "metadata": {},
   "outputs": [],
   "source": [
    "# using map the Reviewer_Score column converted into a binary column in the following way.\n",
    "\n",
    "conversion_dict = {0.0:0, 1.0:0, 2.0:0, 3.0:0, 4.0:1, 5.0:1}\n",
    "df_review['overall'] = df_review['overall'].map(conversion_dict)\n"
   ]
  },
  {
   "cell_type": "code",
   "execution_count": 34,
   "metadata": {},
   "outputs": [
    {
     "data": {
      "image/png": "[encoded data removed]",
      "text/plain": [
       "<Figure size 432x288 with 1 Axes>"
      ]
     },
     "metadata": {
      "needs_background": "light"
     },
     "output_type": "display_data"
    }
   ],
   "source": [
    "\n",
    "values, counts = np.unique(df_review['overall'], return_counts=True)\n",
    "plt.figure()\n",
    "plt.bar([\"0\",\"1\"], counts)\n",
    "plt.xlabel('Review Rating')\n",
    "plt.ylabel('Count of Reviews')\n",
    "plt.show()"
   ]
  },
  {
   "cell_type": "markdown",
   "metadata": {},
   "source": [
    "### ***Review ratings are highly skewed*** ###"
   ]
  },
  {
   "cell_type": "code",
   "execution_count": 35,
   "metadata": {},
   "outputs": [],
   "source": [
    "df_review_1=df_review.loc[df_review['overall']==1]"
   ]
  },
  {
   "cell_type": "code",
   "execution_count": 36,
   "metadata": {},
   "outputs": [],
   "source": [
    "df_review_1.to_csv('df_review_1.csv')"
   ]
  },
  {
   "cell_type": "code",
   "execution_count": 37,
   "metadata": {},
   "outputs": [],
   "source": [
    "df_review_0=df_review.loc[df_review['overall']==0]"
   ]
  },
  {
   "cell_type": "code",
   "execution_count": 38,
   "metadata": {},
   "outputs": [],
   "source": [
    "df_review_0.to_csv('df_review_0.csv')"
   ]
  },
  {
   "cell_type": "code",
   "execution_count": 39,
   "metadata": {},
   "outputs": [
    {
     "data": {
      "text/html": [
       "<div>\n",
       "<style scoped>\n",
       "    .dataframe tbody tr th:only-of-type {\n",
       "        vertical-align: middle;\n",
       "    }\n",
       "\n",
       "    .dataframe tbody tr th {\n",
       "        vertical-align: top;\n",
       "    }\n",
       "\n",
       "    .dataframe thead th {\n",
       "        text-align: right;\n",
       "    }\n",
       "</style>\n",
       "<table border=\"1\" class=\"dataframe\">\n",
       "  <thead>\n",
       "    <tr style=\"text-align: right;\">\n",
       "      <th></th>\n",
       "      <th>reviewText</th>\n",
       "      <th>overall</th>\n",
       "    </tr>\n",
       "  </thead>\n",
       "  <tbody>\n",
       "    <tr>\n",
       "      <td>0</td>\n",
       "      <td>Not much to write about here, but it does exac...</td>\n",
       "      <td>1</td>\n",
       "    </tr>\n",
       "    <tr>\n",
       "      <td>1</td>\n",
       "      <td>The product does exactly as it should and is q...</td>\n",
       "      <td>1</td>\n",
       "    </tr>\n",
       "  </tbody>\n",
       "</table>\n",
       "</div>"
      ],
      "text/plain": [
       "                                          reviewText  overall\n",
       "0  Not much to write about here, but it does exac...        1\n",
       "1  The product does exactly as it should and is q...        1"
      ]
     },
     "execution_count": 39,
     "metadata": {},
     "output_type": "execute_result"
    }
   ],
   "source": [
    "#pd.options.display.max_rows=9022\n",
    "df_review_1.head(2)"
   ]
  },
  {
   "cell_type": "code",
   "execution_count": 40,
   "metadata": {},
   "outputs": [
    {
     "data": {
      "text/plain": [
       "0"
      ]
     },
     "execution_count": 40,
     "metadata": {},
     "output_type": "execute_result"
    }
   ],
   "source": [
    "df_review_1['reviewText'].str.isnumeric().sum()"
   ]
  },
  {
   "cell_type": "code",
   "execution_count": 21,
   "metadata": {},
   "outputs": [
    {
     "data": {
      "text/plain": [
       "reviewText    object\n",
       "overall        int64\n",
       "dtype: object"
      ]
     },
     "execution_count": 21,
     "metadata": {},
     "output_type": "execute_result"
    }
   ],
   "source": [
    "df_review_1.dtypes"
   ]
  },
  {
   "cell_type": "code",
   "execution_count": 46,
   "metadata": {},
   "outputs": [
    {
     "data": {
      "image/png": "[encoded data removed]",
      "text/plain": [
       "<Figure size 432x288 with 1 Axes>"
      ]
     },
     "metadata": {
      "needs_background": "light"
     },
     "output_type": "display_data"
    }
   ],
   "source": [
    "from wordcloud import WordCloud \n",
    "# Start with one review:\n",
    "text = df_review_1['reviewText']\n",
    "# Create and generate a word cloud image:\n",
    "wordcloud = WordCloud(max_font_size=50, max_words=100, background_color=\"white\").generate(str(text))\n",
    "\n",
    "# Display the generated image:\n",
    "plt.imshow(wordcloud)\n",
    "plt.axis(\"off\")\n",
    "plt.show()\n"
   ]
  },
  {
   "cell_type": "code",
   "execution_count": 47,
   "metadata": {},
   "outputs": [
    {
     "data": {
      "image/png": "[encoded data removed]",
      "text/plain": [
       "<Figure size 432x288 with 1 Axes>"
      ]
     },
     "metadata": {
      "needs_background": "light"
     },
     "output_type": "display_data"
    }
   ],
   "source": [
    "from wordcloud import WordCloud \n",
    "# Start with one review:\n",
    "text = df_review_0['reviewText']\n",
    "# Create and generate a word cloud image:\n",
    "wordcloud = WordCloud(max_font_size=50, max_words=100, background_color=\"white\").generate(str(text))\n",
    "\n",
    "# Display the generated image:\n",
    "plt.imshow(wordcloud)\n",
    "plt.axis(\"off\")\n",
    "plt.show()"
   ]
  },
  {
   "cell_type": "markdown",
   "metadata": {},
   "source": [
    "### Count the ratio"
   ]
  },
  {
   "cell_type": "code",
   "execution_count": null,
   "metadata": {},
   "outputs": [],
   "source": [
    "print(counts/np.sum(counts))"
   ]
  },
  {
   "cell_type": "code",
   "execution_count": null,
   "metadata": {},
   "outputs": [],
   "source": [
    "df_review=df_review[['reviewText','overall']]"
   ]
  },
  {
   "cell_type": "code",
   "execution_count": null,
   "metadata": {},
   "outputs": [],
   "source": [
    "# store review data in X and y\n",
    "\n",
    "X = df_review['reviewText']\n",
    "y = df_review['overall']"
   ]
  },
  {
   "cell_type": "code",
   "execution_count": null,
   "metadata": {},
   "outputs": [],
   "source": [
    "df_review.loc[df_review['overall']==0]"
   ]
  },
  {
   "cell_type": "code",
   "execution_count": null,
   "metadata": {},
   "outputs": [],
   "source": [
    "# splitting our data into train and test sets\n",
    "\n",
    "from sklearn.model_selection import train_test_split\n",
    "\n",
    "X_train, X_test, y_train, y_test = train_test_split(X, y, test_size=0.33, random_state=42)"
   ]
  },
  {
   "cell_type": "code",
   "execution_count": null,
   "metadata": {},
   "outputs": [],
   "source": [
    "X_train.shape"
   ]
  },
  {
   "cell_type": "code",
   "execution_count": null,
   "metadata": {},
   "outputs": [],
   "source": [
    "y_train.shape"
   ]
  },
  {
   "cell_type": "code",
   "execution_count": null,
   "metadata": {},
   "outputs": [],
   "source": [
    "from sklearn.feature_extraction.text import CountVectorizer\n",
    "\n",
    "from sklearn.linear_model import LogisticRegression"
   ]
  },
  {
   "cell_type": "markdown",
   "metadata": {},
   "source": [
    "### Fitting bag-of words model"
   ]
  },
  {
   "cell_type": "code",
   "execution_count": null,
   "metadata": {},
   "outputs": [],
   "source": [
    "# 1. Instantiate\n",
    "bagofwords = CountVectorizer(\n",
    "    encoding='utf-8',\n",
    "    \n",
    "    token_pattern='(?u)\\\\b\\\\w\\\\w+\\\\b',\n",
    "    \n",
    "    min_df=1,\n",
    ")"
   ]
  },
  {
   "cell_type": "code",
   "execution_count": null,
   "metadata": {},
   "outputs": [],
   "source": [
    "# 2. Fit\n",
    "bagofwords.fit(X_train.values.astype('U'))"
   ]
  },
  {
   "cell_type": "code",
   "execution_count": null,
   "metadata": {},
   "outputs": [],
   "source": [
    "# 3. Transform\n",
    "X_train = bagofwords.transform(X_train.values.astype('U'))\n",
    "X_train"
   ]
  },
  {
   "cell_type": "code",
   "execution_count": null,
   "metadata": {},
   "outputs": [],
   "source": [
    "# Fitting a model\n",
    "\n",
    "logreg = LogisticRegression()\n",
    "logreg.fit(X_train, y_train)\n",
    "# Training score\n",
    "score=logreg.score(X_train,y_train)\n",
    "print(f'printing the Training set score:{score}')"
   ]
  },
  {
   "cell_type": "code",
   "execution_count": null,
   "metadata": {},
   "outputs": [],
   "source": [
    "X_test = bagofwords.transform(X_test.values.astype('U'))\n",
    "X_test"
   ]
  },
  {
   "cell_type": "code",
   "execution_count": null,
   "metadata": {},
   "outputs": [],
   "source": [
    "# Test Score\n",
    "score=logreg.score(X_test,y_test)\n",
    "print(f'printing the Testing set score:{score}')"
   ]
  },
  {
   "cell_type": "markdown",
   "metadata": {},
   "source": [
    "### Improving our Model\n",
    "\n",
    "This accuracy can be improved.\n",
    "\n",
    "First, let's look at the most frequently occurring words in our dataset."
   ]
  },
  {
   "cell_type": "code",
   "execution_count": null,
   "metadata": {},
   "outputs": [],
   "source": [
    "word_counts = np.array(np.sum(X_train, axis=0)).reshape((-1,))\n",
    "word_counts"
   ]
  },
  {
   "cell_type": "code",
   "execution_count": null,
   "metadata": {},
   "outputs": [],
   "source": [
    "words = np.array(bagofwords.get_feature_names())\n",
    "words"
   ]
  },
  {
   "cell_type": "code",
   "execution_count": null,
   "metadata": {},
   "outputs": [],
   "source": [
    "words_df = pd.DataFrame({\"word\":words, \n",
    "                         \"count\":word_counts})\n",
    "\n",
    "words_df.sort_values(by=\"count\", ascending=False).head(10)"
   ]
  },
  {
   "cell_type": "markdown",
   "metadata": {},
   "source": [
    "Well those are not very useful...\n",
    "These words that will appear in almost any sentence are called \"stop words.\" They are words which add no meaning to the sentence. We can actually filter them out, so let's do that.\n",
    "\n",
    "We will have to re-build our training and test data."
   ]
  },
  {
   "cell_type": "code",
   "execution_count": null,
   "metadata": {},
   "outputs": [],
   "source": [
    "# Re-building train and test sets\n",
    "X_train, X_test, y_train, y_test = train_test_split(X, y, test_size=0.33, random_state=42)"
   ]
  },
  {
   "cell_type": "markdown",
   "metadata": {},
   "source": [
    "We will now use the same `CountVectorizer()` function, but add in an argument which takes away common stop words."
   ]
  },
  {
   "cell_type": "markdown",
   "metadata": {},
   "source": [
    "### Building the model by removing stop words"
   ]
  },
  {
   "cell_type": "code",
   "execution_count": null,
   "metadata": {},
   "outputs": [],
   "source": [
    "bagofwords2 = CountVectorizer(stop_words=\"english\")\n",
    "bagofwords2.fit(X_train.values.astype('U')\n",
    "               )\n",
    "X_train = bagofwords2.transform(X_train.values.astype('U')) \n",
    "X_test = bagofwords2.transform(X_test.values.astype('U')) "
   ]
  },
  {
   "cell_type": "code",
   "execution_count": null,
   "metadata": {},
   "outputs": [],
   "source": [
    "X_train"
   ]
  },
  {
   "cell_type": "markdown",
   "metadata": {},
   "source": [
    "### We have reduces the number of features from 396956 to 231334. What are the most common words now?\n",
    "### Let us find out!"
   ]
  },
  {
   "cell_type": "code",
   "execution_count": null,
   "metadata": {},
   "outputs": [],
   "source": [
    "word_counts = np.array(np.sum(X_train, axis=0)).reshape((-1,))\n",
    "words = np.array(bagofwords2.get_feature_names())\n",
    "words_df = pd.DataFrame({\"word\":words, \n",
    "                         \"count\":word_counts})\n",
    "words_df.sort_values(by=\"count\", ascending=False).head(10)"
   ]
  },
  {
   "cell_type": "code",
   "execution_count": null,
   "metadata": {},
   "outputs": [],
   "source": [
    "# fitting a logistic regression model again\n",
    "logreg = LogisticRegression()\n",
    "logreg.fit(X_train, y_train)\n",
    "# Training score\n",
    "logreg.score(X_train,y_train)\n"
   ]
  },
  {
   "cell_type": "code",
   "execution_count": null,
   "metadata": {
    "scrolled": true
   },
   "outputs": [],
   "source": [
    "# Test Score\n",
    "logreg.score(X_test,y_test)"
   ]
  },
  {
   "cell_type": "markdown",
   "metadata": {},
   "source": [
    "The accuracy went down slightly, but we've also reduced the number of words we are using. This can be important because as we use less words we will use up less space, our models will run faster, and if the accuracy is still acceptable we could actually make huge gains in how fast we can prototype different models."
   ]
  },
  {
   "cell_type": "markdown",
   "metadata": {},
   "source": [
    "### Removing Infrequent Words\n",
    "\n",
    "`CountVectorizer` also allows us to remove infrequent words which occur in a small collection of documents. This can be useful for two reasons:\n",
    "\n",
    "1. If someone wrote a certain actor is \"an utter failure\" and their review is bad, it makes sense. But is that really a trend our models should pay attention to?\n",
    "2. There may be a large group of words that each appear in only several documents. Ignoring those words reduces our memory and run-time consumption even more, allowing us to do faster processing on laptops and desktops.\n",
    "\n",
    "In our vectorizer, we can add a `min_df` parameter to exclude anything that occurs below this frequency:"
   ]
  },
  {
   "cell_type": "code",
   "execution_count": null,
   "metadata": {},
   "outputs": [],
   "source": [
    "X_train, X_test, y_train, y_test = train_test_split(X, y, test_size=0.33, random_state=42)\n",
    "\n",
    "bagofwords3 = CountVectorizer(stop_words=\"english\", min_df = 10)\n",
    "bagofwords3.fit(X_train.values.astype('U'))\n",
    "X_train = bagofwords3.transform(X_train.values.astype('U'))\n",
    "X_test = bagofwords3.transform(X_test.values.astype('U'))"
   ]
  },
  {
   "cell_type": "code",
   "execution_count": null,
   "metadata": {},
   "outputs": [],
   "source": [
    "X_train"
   ]
  },
  {
   "cell_type": "markdown",
   "metadata": {},
   "source": [
    "#### We have dropped the number of words down to 201472!"
   ]
  },
  {
   "cell_type": "code",
   "execution_count": null,
   "metadata": {},
   "outputs": [],
   "source": [
    "# fitting a logistic regression model again\n",
    "logreg = LogisticRegression()\n",
    "logreg.fit(X_train, y_train)\n",
    "# Training score\n",
    "logreg.score(X_train,y_train)\n"
   ]
  },
  {
   "cell_type": "code",
   "execution_count": null,
   "metadata": {
    "scrolled": true
   },
   "outputs": [],
   "source": [
    "# Test Score\n",
    "logreg.score(X_test,y_test)"
   ]
  },
  {
   "cell_type": "markdown",
   "metadata": {},
   "source": [
    "This is slightly lower, but again we will have to consider if the smaller matrix and faster processing are worth the reduction. This will be a case-by-case consideration."
   ]
  },
  {
   "cell_type": "markdown",
   "metadata": {},
   "source": [
    "From this new data, let's try and pull the most important words. We know that in a logistic regression, the most important words will have high coefficients, and the least important will have the lowest (since every feature is on the same scale)."
   ]
  },
  {
   "cell_type": "markdown",
   "metadata": {},
   "source": [
    "From this new data, let's try and pull the most important words. We know that in a logistic regression, the most important words will have high coefficients, and the least important will have the lowest (since every feature is on the same scale)."
   ]
  },
  {
   "cell_type": "markdown",
   "metadata": {},
   "source": [
    "Let's grab all the coefficients"
   ]
  },
  {
   "cell_type": "code",
   "execution_count": null,
   "metadata": {},
   "outputs": [],
   "source": [
    "coefficients = logreg.coef_\n",
    "coefficients"
   ]
  },
  {
   "cell_type": "markdown",
   "metadata": {},
   "source": [
    "Now let's get the highest and lowest coefficients."
   ]
  },
  {
   "cell_type": "code",
   "execution_count": null,
   "metadata": {},
   "outputs": [],
   "source": [
    "indices = coefficients.argsort()[0]"
   ]
  },
  {
   "cell_type": "code",
   "execution_count": null,
   "metadata": {},
   "outputs": [],
   "source": [
    "indices"
   ]
  },
  {
   "cell_type": "code",
   "execution_count": null,
   "metadata": {},
   "outputs": [],
   "source": [
    "# The words with the lowest coefficients \n",
    "# most predictive of a 0 (negative review)\n",
    "np.array(bagofwords3.get_feature_names())[indices[:20]]"
   ]
  },
  {
   "cell_type": "code",
   "execution_count": null,
   "metadata": {},
   "outputs": [],
   "source": [
    "# The words with the highest coefficients\n",
    "# most predictive of a 1 (positive review)\n",
    "np.array(bagofwords3.get_feature_names())[indices[-20:]]"
   ]
  },
  {
   "cell_type": "markdown",
   "metadata": {},
   "source": [
    "So, we have some strong predictors!"
   ]
  },
  {
   "cell_type": "markdown",
   "metadata": {},
   "source": [
    "### Stemming and Lemmatization\n",
    "\n",
    "In language, we often use variations on the same word or meaning: run, runs, running, ran, jogged, jogging, jogs...... These should probably all be coded as the same word.\n",
    "\n",
    "You might have noticed during our vectorizing we removed the punctuation and capitals by default - this is part of the normalization process.\n",
    "\n",
    "Stemming is syntax independent way of cutting off 's', 'ing' and so on - there are various strategies for carrying this out. These are obviously language specific!\n",
    "\n",
    "We will use the Porter Stemmer from [nltk](http://www.nltk.org/howto/stem.html), one of the most widely used NLP packages. "
   ]
  },
  {
   "cell_type": "code",
   "execution_count": null,
   "metadata": {},
   "outputs": [],
   "source": [
    "import nltk"
   ]
  },
  {
   "cell_type": "code",
   "execution_count": null,
   "metadata": {},
   "outputs": [],
   "source": [
    "# Let's test it out\n",
    "stemmer = nltk.stem.PorterStemmer()"
   ]
  },
  {
   "cell_type": "markdown",
   "metadata": {},
   "source": [
    "We can see exactly what the `PorterStemmer()` function above. Let's now apply it to our data. "
   ]
  },
  {
   "cell_type": "code",
   "execution_count": null,
   "metadata": {},
   "outputs": [],
   "source": [
    "X_train, X_test, y_train, y_test = train_test_split(X, y, test_size=0.33, random_state=42)\n",
    "\n",
    "bagofwords4 = CountVectorizer(min_df=5, \n",
    "                              tokenizer = lambda x: [stemmer.stem(i) for i in x.split(' ')], \n",
    "                              stop_words='english')\n",
    "bagofwords4.fit(X_train.values.astype('U'))\n",
    "\n",
    "X_train = bagofwords4.transform(X_train.values.astype('U'))\n",
    "X_test = bagofwords4.transform(X_test.values.astype('U'))"
   ]
  },
  {
   "cell_type": "code",
   "execution_count": null,
   "metadata": {},
   "outputs": [],
   "source": [
    "X_train"
   ]
  },
  {
   "cell_type": "markdown",
   "metadata": {},
   "source": [
    "In the above bag-of-words model, we are actually changing the tokenizer itself. Rather than having the tokens be the unique words, we are adding stemming in the process. "
   ]
  },
  {
   "cell_type": "code",
   "execution_count": null,
   "metadata": {},
   "outputs": [],
   "source": [
    "# fitting a logistic regression model again\n",
    "logreg = LogisticRegression()\n",
    "logreg.fit(X_train, y_train)\n",
    "# Training score\n",
    "logreg.score(X_train,y_train)\n"
   ]
  },
  {
   "cell_type": "code",
   "execution_count": null,
   "metadata": {
    "scrolled": true
   },
   "outputs": [],
   "source": [
    "# Test Score\n",
    "logreg.score(X_test,y_test)"
   ]
  },
  {
   "cell_type": "code",
   "execution_count": null,
   "metadata": {},
   "outputs": [],
   "source": [
    "word_counts = np.array(np.sum(X_train, axis=0)).reshape((-1,))\n",
    "words = np.array(bagofwords4.get_feature_names())\n",
    "words_df = pd.DataFrame({\"word\":words, \n",
    "                         \"count\":word_counts})\n",
    "words_df.sort_values(by=\"count\", ascending=False).head(10)"
   ]
  },
  {
   "cell_type": "markdown",
   "metadata": {},
   "source": [
    "Notice this time we got some strange results such as punctuation marks, and some other unclear words. We should design our own tokenizer to better deal with these issues which we pass into `CountVectorizer`."
   ]
  },
  {
   "cell_type": "code",
   "execution_count": null,
   "metadata": {},
   "outputs": [],
   "source": [
    "import string\n",
    "print(string.punctuation)"
   ]
  },
  {
   "cell_type": "code",
   "execution_count": null,
   "metadata": {},
   "outputs": [],
   "source": [
    "# A sentence used for checking our process\n",
    "sentence = \"The quick brown fox, jumped over the lazy dog!!\"\n",
    "\n",
    "# After splitting the text based on spaces\n",
    "# We stem and remove punctuation\n",
    "for word in sentence.split(' '):\n",
    "    for punctuation_mark in string.punctuation:\n",
    "        word = word.replace(punctuation_mark, '')\n",
    "    stemmed_word = stemmer.stem(word)\n",
    "    print(stemmed_word)"
   ]
  },
  {
   "cell_type": "code",
   "execution_count": null,
   "metadata": {},
   "outputs": [],
   "source": [
    "# A sentence used for checking our process\n",
    "sentence = \"The quick brown fox, jumped over the lazy dog!!\"\n",
    "\n",
    "# After splitting the text based on spaces\n",
    "# We stem and remove punctuation\n",
    "for word in sentence.split(' '):\n",
    "    stemmed_word = stemmer.stem(word)\n",
    "    for punctuation_mark in string.punctuation:\n",
    "        stemmed_word = stemmed_word.replace(punctuation_mark, '')\n",
    "    print(stemmed_word)"
   ]
  },
  {
   "cell_type": "code",
   "execution_count": null,
   "metadata": {
    "scrolled": true
   },
   "outputs": [],
   "source": [
    "nltk.download('stopwords')\n",
    "from nltk.corpus import stopwords \n",
    "ENGLISH_STOP_WORDS = stopwords.words('english')\n",
    "\n",
    "def my_tokenizer(sentence):\n",
    "    \n",
    "    for punctuation_mark in string.punctuation:\n",
    "        # Remove punctuation and set to lower case\n",
    "        sentence = sentence.replace(punctuation_mark,'').lower()\n",
    "\n",
    "    # split sentence into words\n",
    "    listofwords = sentence.split(' ')\n",
    "    listofstemmed_words = []\n",
    "    \n",
    "        \n",
    "    # Remove stopwords and any tokens that are just empty strings\n",
    "    for word in listofwords:\n",
    "        if (not word in ENGLISH_STOP_WORDS) and (word!=''):\n",
    "            # Stem words\n",
    "            stemmed_word = stemmer.stem(word)\n",
    "            #stemmed_word = word\n",
    "            listofstemmed_words.append(stemmed_word)\n",
    "\n",
    "    return listofstemmed_words"
   ]
  },
  {
   "cell_type": "code",
   "execution_count": null,
   "metadata": {},
   "outputs": [],
   "source": [
    "# checking tokenizer on simple sentence from above\n",
    "my_tokenizer(sentence)"
   ]
  },
  {
   "cell_type": "code",
   "execution_count": null,
   "metadata": {},
   "outputs": [],
   "source": [
    "# using our custom tokenizer in CountVectorizer\n",
    "X_train, X_test, y_train, y_test = train_test_split(X, y, test_size=0.33, random_state=42)\n",
    "\n",
    "bagofwords5 = CountVectorizer(min_df=5, tokenizer=my_tokenizer)\n",
    "bagofwords5.fit(X_train.values.astype('U'))\n",
    "X_train = bagofwords5.transform(X_train.values.astype('U'))\n",
    "X_test = bagofwords5.transform(X_test.values.astype('U'))"
   ]
  },
  {
   "cell_type": "code",
   "execution_count": null,
   "metadata": {},
   "outputs": [],
   "source": [
    "X_train"
   ]
  },
  {
   "cell_type": "markdown",
   "metadata": {},
   "source": [
    "We have 2125 tokens now, but notice that the cell took a few seconds to run. So even a slightly more advanced bag-of-words model is already taking a bit more time to run."
   ]
  },
  {
   "cell_type": "code",
   "execution_count": null,
   "metadata": {},
   "outputs": [],
   "source": [
    "word_counts = np.array(np.sum(X_train, axis=0)).reshape((-1,))\n",
    "words = np.array(bagofwords5.get_feature_names())\n",
    "words_df = pd.DataFrame({\"word\":words, \n",
    "                         \"count\":word_counts})\n",
    "words_df.sort_values(by=\"count\", ascending=False).head(10)"
   ]
  },
  {
   "cell_type": "markdown",
   "metadata": {},
   "source": [
    "Our most common words might not make a lot of sense and some are cut off, but at least they are not stop words or punctuation. Let's see how our model will do. "
   ]
  },
  {
   "cell_type": "code",
   "execution_count": null,
   "metadata": {},
   "outputs": [],
   "source": [
    "# fitting a logistic regression model again\n",
    "logreg = LogisticRegression()\n",
    "logreg.fit(X_train, y_train)\n",
    "# Training score\n",
    "logreg.score(X_train,y_train)\n"
   ]
  },
  {
   "cell_type": "code",
   "execution_count": null,
   "metadata": {
    "scrolled": true
   },
   "outputs": [],
   "source": [
    "# Test Score\n",
    "logreg.score(X_test,y_test)"
   ]
  },
  {
   "cell_type": "markdown",
   "metadata": {},
   "source": [
    "Not bad! We get clean tokens and the performace has not decreased too much from using our original bag-of-words transformed data. "
   ]
  },
  {
   "cell_type": "markdown",
   "metadata": {},
   "source": [
    "#### Lemmatization\n",
    "\n",
    "Lemmatization is similar to stemming but with one difference; When stemming words to their root form, the stem is not guaranteed to be a proper word in the source language (in our case, English), as we saw above. Lemmatization ensures the roots extracted from words (called Lemmas) are proper words.\n",
    "\n",
    "This can easily be implemented using pre-made functions in `nltk` or other NLP packages. We will not implement it here"
   ]
  },
  {
   "cell_type": "markdown",
   "metadata": {},
   "source": [
    "### N-grams\n",
    "\n",
    "As well as single words, we can start to put in multiple combinations of words into the bag. This will explode out feature space but should lead to better fitting models: \"not great\" is a lot more informative than \"not\" and \"great\".\n",
    "\n",
    "Two-grams in the following toy sentence:\n",
    "\n",
    "`the turtle is not fast`\n",
    "\n",
    "would be: \n",
    "\n",
    "`the turtle`\n",
    "\n",
    "`turtle is`\n",
    "\n",
    "`is not`\n",
    "\n",
    "`not fast`\n",
    "\n",
    "\n",
    "These n-grams usually get added as tokens to our document-term matrix. So the tokens for the above sentence (without other processing) would be:\n",
    "\n",
    "`the` `turtle` `is` `not` `fast`\n",
    "`the turtle`\n",
    "`turtle is`\n",
    "`is not`\n",
    "`not fast`. \n",
    "\n"
   ]
  },
  {
   "cell_type": "markdown",
   "metadata": {},
   "source": [
    "To do this in Python, we can pass an argument `ngram_range` into our vectorizer:"
   ]
  },
  {
   "cell_type": "code",
   "execution_count": null,
   "metadata": {},
   "outputs": [],
   "source": [
    "# using our custom tokenizer in CountVectorizer\n",
    "X_train, X_test, y_train, y_test = train_test_split(X, y, test_size=0.33, random_state=42)\n",
    "\n",
    "bagofwords6 = CountVectorizer(min_df=5, tokenizer=my_tokenizer, \n",
    "                              ngram_range = (1,3))\n",
    "bagofwords6.fit(X_train.values.astype('U'))\n",
    "X_train = bagofwords6.transform(X_train.values.astype('U'))\n",
    "X_test = bagofwords6.transform(X_test.values.astype('U'))"
   ]
  },
  {
   "cell_type": "code",
   "execution_count": null,
   "metadata": {},
   "outputs": [],
   "source": [
    "X_train"
   ]
  },
  {
   "cell_type": "markdown",
   "metadata": {},
   "source": [
    "We have 2362 tokens now, (it was previously 2125), so we ended up adding some tokens, hopefully they are the 2 or 3 grams. "
   ]
  },
  {
   "cell_type": "code",
   "execution_count": null,
   "metadata": {},
   "outputs": [],
   "source": [
    "word_counts = np.array(np.sum(X_train, axis=0)).reshape((-1,))\n",
    "words = np.array(bagofwords6.get_feature_names())\n",
    "words_df = pd.DataFrame({\"word\":words, \n",
    "                         \"count\":word_counts})\n",
    "words_df.sort_values(by=\"count\", ascending=False).head(10)"
   ]
  },
  {
   "cell_type": "markdown",
   "metadata": {},
   "source": [
    "We see that nothing changed in terms of the most common tokens. You will try to find all of the n-grams in the exercise below. For now let's see how our model is doing on this data. "
   ]
  },
  {
   "cell_type": "code",
   "execution_count": null,
   "metadata": {},
   "outputs": [],
   "source": [
    "# fitting a logistic regression model again\n",
    "logreg = LogisticRegression()\n",
    "logreg.fit(X_train, y_train)\n",
    "# Training score\n",
    "logreg.score(X_train,y_train)\n"
   ]
  },
  {
   "cell_type": "code",
   "execution_count": null,
   "metadata": {
    "scrolled": true
   },
   "outputs": [],
   "source": [
    "# Test Score\n",
    "logreg.score(X_test,y_test)"
   ]
  },
  {
   "cell_type": "markdown",
   "metadata": {},
   "source": [
    "We get a slight increase! It seems like adding the n-grams has provided some information to our model."
   ]
  },
  {
   "cell_type": "code",
   "execution_count": null,
   "metadata": {},
   "outputs": [],
   "source": [
    "words = np.array(bagofwords6.get_feature_names())\n",
    "# https://stackoverflow.com/questions/38974168/finding-entries-containing-a-substring-in-a-numpy-array\n",
    "indices_of_23_grams = np.flatnonzero(np.core.defchararray.find(words, \" \") != -1)\n",
    "words[indices_of_23_grams]"
   ]
  },
  {
   "cell_type": "code",
   "execution_count": null,
   "metadata": {},
   "outputs": [],
   "source": [
    "coefficients = logreg.coef_[0]\n",
    "words = np.array(bagofwords6.get_feature_names())\n",
    "words_df = pd.DataFrame({\"word\":words, \n",
    "                         \"coef\":coefficients})\n",
    "words_df.sort_values(by=\"coef\", ascending=False, inplace=True)\n",
    "words_df.reset_index(inplace=True, drop=True)\n",
    "words_df.head()"
   ]
  },
  {
   "cell_type": "code",
   "execution_count": null,
   "metadata": {},
   "outputs": [],
   "source": [
    "n_grams_df = words_df[words_df['word'].str.contains(' ')]\n",
    "n_grams_df.head()"
   ]
  },
  {
   "cell_type": "code",
   "execution_count": null,
   "metadata": {},
   "outputs": [],
   "source": [
    "n_grams_df.reset_index(inplace=True)\n",
    "n_grams_df.head()"
   ]
  },
  {
   "cell_type": "code",
   "execution_count": null,
   "metadata": {},
   "outputs": [],
   "source": [
    "n_grams_df.rename({\"index\":\"position\"}, axis=1, inplace=True)\n",
    "n_grams_df.head()"
   ]
  },
  {
   "cell_type": "code",
   "execution_count": null,
   "metadata": {},
   "outputs": [],
   "source": [
    "# distribution of positions of n_grams, they are mostly in the middle with a slight\n",
    "# bump in the end \n",
    "plt.figure()\n",
    "plt.hist(n_grams_df['position'], bins=50)\n",
    "plt.show()"
   ]
  },
  {
   "cell_type": "markdown",
   "metadata": {},
   "source": [
    "### TF-IDF Vectorization\n",
    "\n",
    "Using our `CountVectorizer` and `min_df`, we've only enforced that words that appear in less than 5 documents should be discarded, while all other words are kept. In essence we are saying that words that appear less frequently may not be so important.\n",
    "\n",
    "There is, however, also the argument that words that appear infrequently are VERY important. Using either \"good\" or \"bad\" might be very common, but more uncommon words like \"terrific\" or \"atrocious\" should be given more weight.  \n",
    "\n",
    "For this purpose we have the TF-IDF Vectorizer, which is composed of multiplying the following: \n",
    "\n",
    "1. Term Frequency (TF) - Which is the number of times a given word appears in a document (review).\n",
    "2. Inverse Document Frequency - Inverse of the number of documents (reviews) a given word appears in.\n",
    "\n",
    "\n",
    "Assuming we have a collection of terms $[t_1, t_2, t_3, ..., t_n]$, and a collection of documents $D = [d_1, d_2, d_3, ... d_m]$ The overall formula for a TF-IDF score is:\n",
    "\n",
    "$$TF-IDF(t_i, d_j) = TF(t_i, d_j) \\times IDF(t_i, D)$$\n",
    "\n",
    "Where:\n",
    "* $TF(t_i, d_j)$ is the term frequency of term $i$ in document $j$. in the simples case it is:\n",
    "$$count(t_i)$$\n",
    "* $IDF(t_i, D)$ is the inverse document frequency of term $i$ in all documents. In the simplest case it is:\n",
    "$$\\frac{len(D)}{len(\\{\\text{all $d_k$ such that $t_i \\in d_k$} \\})+1}$$\n",
    "\n",
    "In simple words, instead of our document-term matrix containing just the count of each token, it now contains a weight. \n",
    "\n",
    "- Words that are very common are going to have their count be scaled down \n",
    "- Words that are less common are going to have their count be scaled up\n",
    "\n",
    "That way, when any model is trying to learn whether a word is predictive of sentiment, it will put more focus on the less common words.\n",
    "\n",
    "In `sklearn`, we can use this vectorizer with the `TfidfVectorizer` function."
   ]
  },
  {
   "cell_type": "code",
   "execution_count": null,
   "metadata": {},
   "outputs": [],
   "source": [
    "from sklearn.feature_extraction.text import TfidfVectorizer"
   ]
  },
  {
   "cell_type": "markdown",
   "metadata": {},
   "source": [
    "The `sklearn` implementation uses a more complex IDF count, so we will not get into the math of these numbers, but it is very customizable so feel free to look at the documentation."
   ]
  },
  {
   "cell_type": "markdown",
   "metadata": {},
   "source": [
    "Notice that while for the `CountVectorizer` the word \"absolutely\" got a value of 1 for all three documents, the `TfidfVectorizer` gave it a higher value for a short review (it makes up a bigger part of that sentence).\n",
    "\n",
    "Also notice that while for the `CountVectorizer`, the value for the word \"period\" is 1, the same value as for the words \"movie\", \"beaten\", and \"have\", the `TfidfVectorizer` gave it the highest value since it only appears in one document."
   ]
  },
  {
   "cell_type": "markdown",
   "metadata": {},
   "source": [
    "Let's see how our model does when using TF-IDF transformed data compared to the bag-of-words transformed data."
   ]
  },
  {
   "cell_type": "markdown",
   "metadata": {},
   "source": [
    "### Putting it all Together\n",
    "\n",
    "\n",
    "Let's try out our final model on the test set:"
   ]
  },
  {
   "cell_type": "code",
   "execution_count": null,
   "metadata": {},
   "outputs": [],
   "source": [
    "# using our custom tokenizer in CountVectorizer\n",
    "X_train, X_test, y_train, y_test = train_test_split(X, y, test_size=0.33, random_state=42)\n",
    "\n",
    "tfidf = TfidfVectorizer(min_df=5, tokenizer=my_tokenizer, ngram_range = (1,3))\n",
    "tfidf.fit(X_train.values.astype('U'))\n",
    "X_train = tfidf.transform(X_train.values.astype('U'))\n",
    "X_test = tfidf.transform(X_test.values.astype('U'))"
   ]
  },
  {
   "cell_type": "code",
   "execution_count": null,
   "metadata": {},
   "outputs": [],
   "source": [
    "X_train"
   ]
  },
  {
   "cell_type": "code",
   "execution_count": null,
   "metadata": {},
   "outputs": [],
   "source": [
    "word_weights = np.array(np.sum(X_train, axis=0)).reshape((-1,))\n",
    "words = np.array(tfidf.get_feature_names())\n",
    "words_df = pd.DataFrame({\"word\":words, \n",
    "                         \"weight\":word_counts})\n",
    "words_df.sort_values(by=\"weight\", ascending=False).head(10)"
   ]
  },
  {
   "cell_type": "markdown",
   "metadata": {},
   "source": [
    "There is some difference in which tokens become more important."
   ]
  },
  {
   "cell_type": "code",
   "execution_count": null,
   "metadata": {},
   "outputs": [],
   "source": [
    "# fitting a logistic regression model again\n",
    "logreg = LogisticRegression()\n",
    "logreg.fit(X_train, y_train)\n",
    "# Training score\n",
    "logreg.score(X_train,y_train)\n"
   ]
  },
  {
   "cell_type": "code",
   "execution_count": null,
   "metadata": {
    "scrolled": true
   },
   "outputs": [],
   "source": [
    "# Test Score\n",
    "logreg.score(X_test,y_test)"
   ]
  },
  {
   "cell_type": "markdown",
   "metadata": {},
   "source": [
    "### Remember Our Original Problem?\n",
    "\n",
    "Recall that originally, we simplified our problem into \"good\" and \"bad\" reviews, and got a reasonable performance here. But let's check how this final model performs on the original data with 5 classes."
   ]
  },
  {
   "cell_type": "code",
   "execution_count": null,
   "metadata": {},
   "outputs": [],
   "source": [
    "# store original data in X and y\n",
    "X_full = data['reviewText']\n",
    "y_full = data['overall']"
   ]
  },
  {
   "cell_type": "code",
   "execution_count": null,
   "metadata": {},
   "outputs": [],
   "source": [
    "# using our custom tokenizer in CountVectorizer\n",
    "X_train, X_test, y_train, y_test = train_test_split(X_full, y_full, test_size=0.33, random_state=42)\n",
    "\n",
    "tfidf = TfidfVectorizer(min_df=5, tokenizer=my_tokenizer, ngram_range = (1,3))\n",
    "tfidf.fit(X_train.values.astype('U'))\n",
    "X_train = tfidf.transform(X_train.values.astype('U'))\n",
    "X_test = tfidf.transform(X_test.values.astype('U'))"
   ]
  },
  {
   "cell_type": "code",
   "execution_count": null,
   "metadata": {},
   "outputs": [],
   "source": [
    "# fitting a logistic regression model again\n",
    "logreg = LogisticRegression()\n",
    "logreg.fit(X_train, y_train)\n",
    "# Training score\n",
    "logreg.score(X_train,y_train)\n"
   ]
  },
  {
   "cell_type": "code",
   "execution_count": null,
   "metadata": {
    "scrolled": true
   },
   "outputs": [],
   "source": [
    "# Test Score\n",
    "logreg.score(X_test,y_test)"
   ]
  },
  {
   "cell_type": "markdown",
   "metadata": {},
   "source": [
    "The score might seem pretty low, but remember that we are trying to classify 5 classes! In order to see what is happening we'll use a confusion matrix. "
   ]
  },
  {
   "cell_type": "code",
   "execution_count": null,
   "metadata": {},
   "outputs": [],
   "source": [
    "from sklearn.metrics import confusion_matrix\n",
    "\n",
    "preds = logreg.predict(X_test)\n",
    "\n",
    "con_mat = confusion_matrix(y_test,preds)\n",
    "con_mat"
   ]
  },
  {
   "cell_type": "code",
   "execution_count": null,
   "metadata": {},
   "outputs": [],
   "source": [
    "from sklearn.metrics import classification_report\n",
    "cv_report = classification_report(y_test,preds,target_names = ['0','1','2','3','4'])\n",
    "print(cv_report)"
   ]
  },
  {
   "cell_type": "code",
   "execution_count": null,
   "metadata": {},
   "outputs": [],
   "source": [
    "# making the confusion matrix a bit more clear\n",
    "\n",
    "df_con_mat = pd.DataFrame(con_mat, columns = ['Predicted 0','Predicted 1','Predicted 2','Predicted 3','Predicted 4'],\n",
    "                 index = ['Actual 0','Actual 1','Actual 2','Actual 3','Actual 4'])\n",
    "\n",
    "df_con_mat"
   ]
  },
  {
   "cell_type": "code",
   "execution_count": null,
   "metadata": {},
   "outputs": [],
   "source": [
    "# heat map\n",
    "plt.figure(figsize = (10,10))\n",
    "sns.heatmap(df_con_mat,cmap= \"Blues\",annot = True, fmt='')"
   ]
  },
  {
   "cell_type": "code",
   "execution_count": null,
   "metadata": {},
   "outputs": [],
   "source": []
  }
 ],
 "metadata": {
  "kernelspec": {
   "display_name": "Python 3",
   "language": "python",
   "name": "python3"
  },
  "language_info": {
   "codemirror_mode": {
    "name": "ipython",
    "version": 3
   },
   "file_extension": ".py",
   "mimetype": "text/x-python",
   "name": "python",
   "nbconvert_exporter": "python",
   "pygments_lexer": "ipython3",
   "version": "3.7.4"
  }
 },
 "nbformat": 4,
 "nbformat_minor": 4
}
